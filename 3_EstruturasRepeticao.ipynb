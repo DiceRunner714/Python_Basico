{
 "cells": [
  {
   "cell_type": "markdown",
   "metadata": {},
   "source": [
    "**Capítulo 4 - Estruturas de Repetição**"
   ]
  },
  {
   "cell_type": "code",
   "execution_count": null,
   "metadata": {},
   "outputs": [],
   "source": [
    "#Necessidade de estruturas de repetição\n",
    "#Repetição braçal de de linha de código é custoso e cansativo\n",
    "print(\"Olá\")\n",
    "print(\"Olá\")\n",
    "print(\"Olá\")\n",
    "print(\"Olá\")\n",
    "print(\"Olá\")\n",
    "print(\"Olá\")\n",
    "print(\"Olá\")\n",
    "print(\"Olá\")\n",
    "print(\"Olá\")\n",
    "print(\"Olá\")\n",
    "print(\"FIM\")"
   ]
  },
  {
   "cell_type": "code",
   "execution_count": null,
   "metadata": {},
   "outputs": [],
   "source": [
    "#Estrutura de repetição while\n",
    "'''\n",
    "!!!troque 'enquanto' por 'while'!!!\n",
    "\n",
    "enquanto condição(for verdade):\n",
    "  faça isso\n",
    "'''\n",
    "\n",
    "cont = 1            #contador, geralmente usado como critério de parada\n",
    "while cont <= 10:\n",
    "  print(\"Olá!\")\n",
    "  cont += 1         #o mesmo que cont = cont + 1/ incremento do contador\n",
    "print(\"FIM\")"
   ]
  },
  {
   "cell_type": "code",
   "execution_count": null,
   "metadata": {},
   "outputs": [],
   "source": [
    "'''\n",
    "!!! LOOP INFINITO !!!\n",
    "   NÃO DESCOMENTAR\n",
    "'''\n",
    "\n",
    "#cont = 1\n",
    "#while cont <= 10:\n",
    "#  print(\"Olá!\")"
   ]
  },
  {
   "cell_type": "code",
   "execution_count": null,
   "metadata": {},
   "outputs": [],
   "source": [
    "#PROGRASSÕES ARITMÉTICAS\n",
    "#Primeira alternativa\n",
    "print(1+2+3+4+5+6+7+8+9+10)\n",
    "\n",
    "#Segunda alternativa\n",
    "soma = 1+2+3+4+5+6+7+8+9+10\n",
    "print(soma)\n",
    "\n",
    "#Com loops\n",
    "soma = 0\n",
    "termo = 1\n",
    "\n",
    "while termo <= 10:\n",
    "  soma += termo\n",
    "  termo += 1 #geração do termo da PA, de razão 1\n",
    "\n",
    "print(soma)"
   ]
  },
  {
   "cell_type": "code",
   "execution_count": null,
   "metadata": {},
   "outputs": [],
   "source": [
    "#Função range() criando uma lista list()\n",
    "list(range(10, 16))     #Incremento = 1: [10, 11, 12, 13, 14, 15]\n",
    "list(range(10, 16, 2))  #Incremento = 2: [10, 12, 14]\n",
    "list(range(16, 10, -1)) #Incremento = -1: [16, 15, 14, 13, 12, 11]\n",
    "list(range(16, 10, -2)) #Incremento = -2: [16, 14, 12]"
   ]
  },
  {
   "cell_type": "code",
   "execution_count": null,
   "metadata": {},
   "outputs": [],
   "source": [
    "#Estrutura de repetição for\n",
    "'''for <variável> in range([maneira_1|maneira_2]):\n",
    "      #Instruções a serem executadas\n",
    "   #Instruções a serem executadas após o fim do loop'''\n",
    "\n",
    "#refazendo primeiro programa de repetição\n",
    "for cont in range(10):\n",
    "  print(\"Olá!\")\n",
    "print(\"FIM\")"
   ]
  },
  {
   "cell_type": "code",
   "execution_count": null,
   "metadata": {},
   "outputs": [],
   "source": [
    "#Função break, sai do laço\n",
    "print(\"*** Operação de divisão ***\")\n",
    "while True:\n",
    "    n1 = int(input(\"Informe o primeiro número: \"))\n",
    "    n2 = int(input(\"Informe o segundo número: \"))\n",
    "    if n2 == 0:\n",
    "      print(\"Divisor não pode ser 0.\\nPrograma será encerrado...\")\n",
    "      break\n",
    "    print(f\"{n1} / {n2} = {(n1/n2):.2f}\")\n",
    "print(\"*** Fim da operação de divisão ***\")"
   ]
  }
 ],
 "metadata": {
  "kernelspec": {
   "display_name": "Python 3",
   "language": "python",
   "name": "python3"
  },
  "language_info": {
   "codemirror_mode": {
    "name": "ipython",
    "version": 3
   },
   "file_extension": ".py",
   "mimetype": "text/x-python",
   "name": "python",
   "nbconvert_exporter": "python",
   "pygments_lexer": "ipython3",
   "version": "3.8.10"
  }
 },
 "nbformat": 4,
 "nbformat_minor": 2
}
