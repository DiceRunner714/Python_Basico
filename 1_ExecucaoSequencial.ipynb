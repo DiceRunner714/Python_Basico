{
 "cells": [
  {
   "cell_type": "code",
   "execution_count": null,
   "metadata": {},
   "outputs": [],
   "source": [
    "#Poema - The Zen of Python\n",
    "import this"
   ]
  },
  {
   "cell_type": "markdown",
   "metadata": {},
   "source": [
    "**Capítulo 1 - Execução Sequencial**"
   ]
  },
  {
   "cell_type": "code",
   "execution_count": null,
   "metadata": {},
   "outputs": [],
   "source": [
    "#Hello World e função de saída/print()\n",
    "print(\"Hello World\")"
   ]
  },
  {
   "cell_type": "code",
   "execution_count": 4,
   "metadata": {},
   "outputs": [],
   "source": [
    "#Declarção de variáveis\n",
    "Pessoa = \"Ana\"\n",
    "idade = 20\n",
    "ira = 3.52\n",
    "menina = True"
   ]
  },
  {
   "cell_type": "code",
   "execution_count": null,
   "metadata": {},
   "outputs": [],
   "source": [
    "#Importação de constantes matemáticas da biblioteca math\n",
    "from math import pi\n",
    "from math import tau, e\n",
    "print(pi)\n",
    "print(tau)\n",
    "print(e)"
   ]
  },
  {
   "cell_type": "code",
   "execution_count": null,
   "metadata": {},
   "outputs": [],
   "source": [
    "#Tipos de dados -  tipagem dinâmica (automática)\n",
    "exemplo1 = \"Ana\"\n",
    "exemplo2 = 20\n",
    "exemplo3 = 9.99\n",
    "exemplo4 = True\n",
    "print(type(exemplo1))\n",
    "print(type(exemplo2))\n",
    "print(type(exemplo3))\n",
    "print(type(exemplo4))"
   ]
  },
  {
   "cell_type": "code",
   "execution_count": null,
   "metadata": {},
   "outputs": [],
   "source": [
    "#Operadores Aritméticos\n",
    "a = 1\n",
    "b = 2\n",
    "c = 3\n",
    "d = 4\n",
    "soma = a+b\n",
    "subtracao = a-b\n",
    "multiplicacao = b*c\n",
    "divisao = a/b\n",
    "quociente_inteiro = d//c\n",
    "resto_inteiro = 4%2\n",
    "potencia = d**b\n",
    "#ou\n",
    "potencia2 = pow(d,b)\n",
    "\n",
    "print(soma)              #1+2\n",
    "print(subtracao)         #1-2\n",
    "print(multiplicacao)     #2x3\n",
    "print(divisao)           #1:2\n",
    "print(quociente_inteiro) #quociente inteiro de 4:3\n",
    "print(resto_inteiro)     #resto de 4:2\n",
    "print(potencia)          #4^2\n",
    "print(potencia2)         #4^2"
   ]
  },
  {
   "cell_type": "code",
   "execution_count": null,
   "metadata": {},
   "outputs": [],
   "source": [
    "#Operadores Aritméticos com strings\n",
    "#soma\n",
    "string1 = \"Eu \"\n",
    "string2 = \"amo\"\n",
    "string3 = \"P\"\n",
    "print(string1 + string2 + \" \" + string3 + \"ython.\")\n",
    "#multiplicação\n",
    "string4 = \"na\"\n",
    "print(\"Ba\" + 2*string4)"
   ]
  },
  {
   "cell_type": "code",
   "execution_count": null,
   "metadata": {},
   "outputs": [],
   "source": [
    "#Operadores de Atribuição\n",
    "#receber um valor =\n",
    "a = 2\n",
    "print(a)\n",
    "\n",
    "#atribuição/incremento soma +=\n",
    "b = 2\n",
    "b += 1   #isso é igual a (b = b+1)\n",
    "print(b)  #resposta esperada => 3\n",
    "\n",
    "#atribuição/incremento subtração -=\n",
    "c = 2\n",
    "c -= 1    #isso é igual a (c = c-1)\n",
    "print(c)  #resposta esperada => 1\n",
    "\n",
    "#atribuição/incremento multiplicação *=\n",
    "d = 1\n",
    "d *= 2    #isso é igual a (d = d*2)\n",
    "print(d)  #resposta esperada => 2\n",
    "\n",
    "#atribuição/incremento divisão /=\n",
    "e = 2\n",
    "e /= 2    #isso é igual a (e = e/2)\n",
    "print(e)  #resposta esperada => 1\n",
    "\n",
    "#atribuição/incremento resto %=\n",
    "f = 4\n",
    "f %= 3    #isso é igual a (f = f%2)\n",
    "print(f)  #resposta esperada => 1\n",
    "\n",
    "#atribuição/incremento potência **=\n",
    "g = 3\n",
    "g **= 2    #isso é igual a (g = g**2)\n",
    "print(g)  #resposta esperada => 9\n",
    "\n",
    "#atribuição/incremento quociente //=\n",
    "h = 4\n",
    "h //= 3    #isso é igual a (h = h//2)\n",
    "print(h)  #resposta esperada => 1"
   ]
  },
  {
   "cell_type": "code",
   "execution_count": null,
   "metadata": {},
   "outputs": [],
   "source": [
    "#Função input()/Função de entrada\n",
    "nome = input(\"Digite seu nome: \")\n",
    "idade = input(\"Digite sua idade: \")\n",
    "ira = input(\"Digite seu IRA(Índice de Rendimento Acadêmico): \")\n",
    "genero = input(\"Informe se você é menina: \")                      #inserir valor lógico: True ou False\n",
    "\n",
    "print(type(nome))\n",
    "print(type(idade))\n",
    "print(type(ira))\n",
    "print(type(genero))"
   ]
  },
  {
   "cell_type": "code",
   "execution_count": null,
   "metadata": {},
   "outputs": [],
   "source": [
    "#Conversão de tipos de dados\n",
    "nome = input(\"Digite seu nome: \")\n",
    "idade = input(\"Digite sua idade: \")\n",
    "ira = input(\"Digite seu IRA(Índice de Rendimento Acadêmico): \")\n",
    "genero = input(\"Informe se você é menina: \")                      #inserir valor lógico: True ou False\n",
    "\n",
    "print(type(nome))\n",
    "print(type(idade))\n",
    "print(type(ira))\n",
    "print(type(genero))\n",
    "\n",
    "#Conversão\n",
    "print('Convertidos:')\n",
    "nome = nome\n",
    "idade = int(idade)\n",
    "ira = float(ira)\n",
    "genero = bool(genero)\n",
    "\n",
    "print(type(nome))\n",
    "print(type(idade))\n",
    "print(type(ira))\n",
    "print(type(genero))"
   ]
  },
  {
   "cell_type": "code",
   "execution_count": null,
   "metadata": {},
   "outputs": [],
   "source": [
    "#Especificar tipo de dados na função input\n",
    "nome = input(\"Digite seu nome: \")\n",
    "idade = int(input(\"Digite sua idade: \"))\n",
    "ira = float(input(\"Digite seu IRA(Índice de Rendimento Acadêmico): \"))\n",
    "genero = bool(input(\"Informe se você é menina: \"))                      #inserir valor lógico: True ou False\n",
    "\n",
    "print(type(nome))\n",
    "print(type(idade))\n",
    "print(type(ira))\n",
    "print(type(genero))"
   ]
  },
  {
   "cell_type": "code",
   "execution_count": null,
   "metadata": {},
   "outputs": [],
   "source": [
    "#Cálculo da área de um retângulo\n",
    "base = float(input('Informe a base: '))\n",
    "altura = float(input('Informe a altura: '))\n",
    "area = base*altura\n",
    "print(\"A área deste retângulo é igual a: \")\n",
    "print(area)"
   ]
  },
  {
   "cell_type": "code",
   "execution_count": null,
   "metadata": {},
   "outputs": [],
   "source": [
    "#Formatação de strings => f-strings\n",
    "nome = \"Ana\"\n",
    "ano_de_nascimento = 2003\n",
    "ano_atual = 2023\n",
    "print(f\"Seu nome é {nome} e sua idade é {ano_atual - ano_de_nascimento}\")"
   ]
  },
  {
   "cell_type": "code",
   "execution_count": null,
   "metadata": {},
   "outputs": [],
   "source": [
    "#Formatação de números\n",
    "print(f\"Matrícula do Charles Babbage é {25:06d}.\")\n",
    "print(f\"Matrícula do Alan Turing é {99999:06d}.\")\n",
    "print(f\"Matrícula da Ada Lovelace é {100387:06d}.\")"
   ]
  },
  {
   "cell_type": "code",
   "execution_count": null,
   "metadata": {},
   "outputs": [],
   "source": [
    "#Formatação de casas decimais\n",
    "print(f\"Valor de pi é {3.141592653523846264333:.2f}.\")\n",
    "print(f\"Valor de pi é {3.141592653523846264333:.20f}.\")"
   ]
  }
 ],
 "metadata": {
  "kernelspec": {
   "display_name": "Python 3",
   "language": "python",
   "name": "python3"
  },
  "language_info": {
   "codemirror_mode": {
    "name": "ipython",
    "version": 3
   },
   "file_extension": ".py",
   "mimetype": "text/x-python",
   "name": "python",
   "nbconvert_exporter": "python",
   "pygments_lexer": "ipython3",
   "version": "3.8.10"
  }
 },
 "nbformat": 4,
 "nbformat_minor": 2
}
