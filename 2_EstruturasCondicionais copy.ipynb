{
 "cells": [
  {
   "cell_type": "markdown",
   "metadata": {},
   "source": [
    "**Capítulo 3 - Estruturas Condicionais**"
   ]
  },
  {
   "cell_type": "code",
   "execution_count": 1,
   "metadata": {},
   "outputs": [],
   "source": [
    "#Necessidade de estruturas de decisão\n",
    "nota1 = int(input(\"Informe a nota do bimestre 1 (0-100): \"))\n",
    "nota2 = int(input(\"Informe a nota do bimestre 2 (0-100): \"))\n",
    "media = (nota1 + nota2) / 2\n",
    "estado_Aprovacao = media >= 60\n",
    "# O que fazer?"
   ]
  },
  {
   "cell_type": "code",
   "execution_count": null,
   "metadata": {},
   "outputs": [],
   "source": [
    "'''Em estruturas condicionais e de repetição deve-se usar indentação, um espaço\n",
    "para deixar claro o que está dentro de uma cláusula 'if', 'for' ou 'while', por\n",
    "exemplo. Para usar a indentação, usa-se a tecla 'TAB':\n",
    "\n",
    "Exemplo de sintaxe\n",
    "\n",
    "estrutura condição:\n",
    "  indentação seguida pelo que deve ser executado'''"
   ]
  },
  {
   "cell_type": "code",
   "execution_count": null,
   "metadata": {},
   "outputs": [],
   "source": [
    "#Estrutura de decisão if else\n",
    "'''\n",
    "!!!troque 'se' por 'if' e 'senão' por 'else'!!!\n",
    "\n",
    "se condição:\n",
    "  faça isso\n",
    "senão:\n",
    "  faça aquilo\n",
    "'''\n",
    "\n",
    "nota1 = int(input(\"Informe a nota do bimestre 1 (0-100): \"))\n",
    "nota2 = int(input(\"Informe a nota do bimestre 2 (0-100): \"))\n",
    "media = (nota1 + nota2) / 2\n",
    "\n",
    "if media >= 60:\n",
    "  print(\"Aprovado\")\n",
    "else:\n",
    "  print(\"Reprovado\")"
   ]
  },
  {
   "cell_type": "code",
   "execution_count": null,
   "metadata": {},
   "outputs": [],
   "source": [
    "#Árvore de decisão if else\n",
    "print(\"## Programa de empréstimos ##. Responda: (0 – Não e 1 - Sim) \")\n",
    "\n",
    "nomeNegativado = int(input(\"Possui nome negativado? \"))\n",
    "if nomeNegativado == 1:\n",
    "  print(\"Não pode realizar empréstimo\")\n",
    "else:\n",
    "  carteiraAssinada = int(input(\"Possui carteira assinada? \"))\n",
    "\n",
    "if carteiraAssinada == 0:\n",
    "  print(\"Não pode realizar empréstimo \")\n",
    "else:\n",
    "  possuiCasaPropria = int(input(\"Possui casa própria? \"))\n",
    "\n",
    "if possuiCasaPropria == 0:\n",
    "  print(\"Não pode realizar empréstimo\")\n",
    "else:\n",
    "  print(\"Conceder empréstimo\")"
   ]
  },
  {
   "cell_type": "code",
   "execution_count": null,
   "metadata": {},
   "outputs": [],
   "source": [
    "#Operadores de comparação ou relacionais\n",
    "a = 1\n",
    "b = 2\n",
    "\n",
    "# == se lê \"é igual a\"\n",
    "if a==b:\n",
    "  print(f'\"a\" é igual a \"b\"')\n",
    "else:\n",
    "  print(f'\"a\" não é igual a \"b\"\\n') #Resultado esperado: \"a\" não é igual a \"b\"\n",
    "\n",
    "# != se lê \"é diferente de\"\n",
    "if a!=b:\n",
    "  print(f'\"a\" é diferente de \"b\"\\n')\n",
    "else:\n",
    "  print(f'\"a\" não é diferente de \"b\"\\n') #Resultado esperado: \"a\" é diferente de \"b\"\n",
    "\n",
    "# > se lê \"é maior do que\"\n",
    "if a>b:\n",
    "  print(f'\"a\" é maior do que \"b\"\\n')\n",
    "else:\n",
    "  print(f'\"a\" não é maior do que\"b\"\\n') #Resultado esperado: \"a\" não é maior do que \"b\"\n",
    "\n",
    "# < se lê \"é menor do que\"\n",
    "if a<b:\n",
    "  print(f'\"a\" é menor do que \"b\"\\n')\n",
    "else:\n",
    "  print(f'\"a\" não é menor do que \"b\"\\n') #Resultado esperado: \"a\" é menor do que \"b\"\n",
    "\n",
    "# >= se lê \"é maior ou igual a\"\n",
    "if a>=b:\n",
    "  print(f'\"a\" é maior ou igual a \"b\"\\n')\n",
    "else:\n",
    "  print(f'\"a\" não é maior ou igual a \"b\"\\n') #Resultado esperado: \"a\" não é maior ou igual a \"b\" \"b\"\n",
    "\n",
    "# <= se lê \"é menor ou igual a\"\n",
    "if a<=b:\n",
    "  print(f'\"a\" é menor ou igual a \"b\"\\n')\n",
    "else:\n",
    "  print(f'\"a\" não é menor ou igual a \"b\"\\n') #Resultado esperado: \"a\" é menor ou igual a \"b\""
   ]
  },
  {
   "cell_type": "code",
   "execution_count": null,
   "metadata": {},
   "outputs": [],
   "source": [
    "#Operadores Lógicos - \"and\", \"or\" e \"not\" vulgo: (\"&\", \"|\" e \"not\") ou (\"e\", \"ou\" e \"não\")\n",
    "print(not False) #Imprime True\n",
    "print(not True) #Imprime False\n",
    "print(False and False) #Imprime False\n",
    "print(False and True) #Imprime False\n",
    "print(True and False) #Imprime False\n",
    "print(True and True) #Imprime True\n",
    "print(False or False) #Imprime False\n",
    "print(False or True) #Imprime True\n",
    "print(True or False) #Imprime True\n",
    "print(True or True) #Imprime True"
   ]
  },
  {
   "cell_type": "code",
   "execution_count": null,
   "metadata": {},
   "outputs": [],
   "source": [
    "#Tabelas verdade dos operadores lógicos\n",
    "'''DESCONSIDERAR CODIGOS'''\n",
    "'''DESCONSIDERAR CODIGOS'''\n",
    "'''DESCONSIDERAR CODIGOS'''\n",
    "from rich.console import Console\n",
    "from rich.table import Table\n",
    "from rich import box\n",
    "def print_truth_table():\n",
    "    console = Console()\n",
    "    table = Table(title=\"Tabela Verdade dos Operadores Lógicos\")\n",
    "    table.add_column(\"A\", justify=\"right\", no_wrap=True)\n",
    "    table.add_column(\"B\", justify=\"right\", no_wrap=True)\n",
    "    table.add_column(\"A and B\", justify=\"right\", no_wrap=True)\n",
    "    table.add_column(\"A or B\", justify=\"right\", no_wrap=True)\n",
    "    table.add_column(\"not A\", justify=\"right\", no_wrap=True)\n",
    "    for a in [False, True]:\n",
    "        for b in [False, True]:\n",
    "            table.add_row(str(a), str(b), str(a and b), str(a or b), str(not a))\n",
    "    console.print(table)\n",
    "print_truth_table()"
   ]
  },
  {
   "cell_type": "code",
   "execution_count": null,
   "metadata": {},
   "outputs": [],
   "source": [
    "#Operadores lógicos podem ser usados para colocar mais de uma condição dentro de um if ou elif\n",
    "# or -> pelo menos uma das condições deve ser satisfeita\n",
    "# and -> todas as condições devem ser satisfeitas\n",
    "# not -> a condição não deve ser satisfeita\n",
    "\n",
    "numero1 = int(input(\"Digite o número 1: \"))\n",
    "numero2 = int(input(\"Digite o número 2: \"))\n",
    "numero3 = int(input(\"Digite o número 3: \"))\n",
    "if numero1 == numero2 or numero2 == numero3 or numero1 == numero3:\n",
    "  exit() #Função exit() -> Encerra o programa\n",
    "if numero1 > numero2 and numero1 > numero3:\n",
    "  print(\"O primeiro número é o maior\")\n",
    "if numero2 > numero1 and numero2 > numero3:\n",
    "  print(\"O segundo número é o maior\")\n",
    "if numero3 > numero1 and numero3 > numero2:\n",
    "  print(\"O terceiro número é o maior\")"
   ]
  },
  {
   "cell_type": "code",
   "execution_count": null,
   "metadata": {},
   "outputs": [],
   "source": [
    "#Programa que verifica se um número é par ou ímpar\n",
    "valor = int(input(\"Número: \"))\n",
    "if valor % 2 == 0: #um número é par se o resto da sua divisão por dois for 0\n",
    "  print(\"O valor é par\")\n",
    "else:\n",
    "  print(\"O valor é ímpar\")"
   ]
  }
 ],
 "metadata": {
  "kernelspec": {
   "display_name": "Python 3",
   "language": "python",
   "name": "python3"
  },
  "language_info": {
   "codemirror_mode": {
    "name": "ipython",
    "version": 3
   },
   "file_extension": ".py",
   "mimetype": "text/x-python",
   "name": "python",
   "nbconvert_exporter": "python",
   "pygments_lexer": "ipython3",
   "version": "3.8.10"
  }
 },
 "nbformat": 4,
 "nbformat_minor": 2
}
